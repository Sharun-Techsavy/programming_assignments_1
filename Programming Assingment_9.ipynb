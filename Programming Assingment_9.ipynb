{
 "cells": [
  {
   "cell_type": "code",
   "execution_count": null,
   "metadata": {},
   "outputs": [],
   "source": [
    "#Write a Python program to check if the given number is a Disarium Number?\n",
    "import math\n",
    "num=int(input(\"Enter a number:\"))\n",
    "num1 = num\n",
    "a=0\n",
    "while num1!=0:\n",
    "    num1 //= 10\n",
    "    a+=1\n",
    "num1=num\n",
    "sum=0\n",
    "while num1!=0:\n",
    "    rem = num1 % 10\n",
    "    sum += math.pow(rem, a)\n",
    "    num1 //= 10\n",
    "    a-=1\n",
    "if sum==num:\n",
    "    print(\"It is a Disarium Number.\")\n",
    "else:\n",
    "   print(\"It is Not a Disarium Number.\")"
   ]
  },
  {
   "cell_type": "code",
   "execution_count": null,
   "metadata": {},
   "outputs": [],
   "source": [
    "#Write a Python program to print all disarium numbers between 1 to 100?\n",
    "import math\n",
    "print(\"Enter a range:\")\n",
    "range1=int(input())\n",
    "range2=int(input())\n",
    "print(\"Disarium numbers between \",range1,\" and \",range2,\" are: \")\n",
    "for i in range(range1,range2+1):\n",
    "    num =i\n",
    "    c = 0\n",
    "    while num != 0:\n",
    "        num //= 10\n",
    "        c += 1\n",
    "    num = i\n",
    "    sum = 0\n",
    "    while num != 0:\n",
    "        rem = num % 10\n",
    "        sum += math.pow(rem, c)\n",
    "        num //= 10\n",
    "        c -= 1\n",
    "    if sum == i:\n",
    "        print(i,end=\" \")"
   ]
  },
  {
   "cell_type": "code",
   "execution_count": null,
   "metadata": {},
   "outputs": [],
   "source": [
    "#Write a Python program to check if the given number is Happy Number?\n",
    "def isHappyNumber(n):    \n",
    "    digit = sum = 0    \n",
    "    while(n > 0):    \n",
    "        digit = n % 10 \n",
    "        sum = sum + (digit * digit)    \n",
    "        n = n // 10   \n",
    "    return sum    \n",
    "        \n",
    "num = int(input(\"Enter a number: \"))    \n",
    "result = num    \n",
    "     \n",
    "while(result != 1 and result != 4):    \n",
    "    result = isHappyNumber(result)   \n",
    "     \n",
    "if(result == 1):    \n",
    "    print(num, \" is a Happy Number!!!\")   \n",
    "else:    \n",
    "    print(num, \" is an Unhappy Number!!!\")"
   ]
  },
  {
   "cell_type": "code",
   "execution_count": null,
   "metadata": {},
   "outputs": [],
   "source": [
    "#Write a Python program to print all happy numbers between 1 and 100?\n",
    "def check_happy(number):\n",
    "  remainder = 0\n",
    "  happy_num = 0;    \n",
    "  while(number > 0):    \n",
    "    remainder = number%10;    \n",
    "    happy_num = happy_num + (remainder*remainder);    \n",
    "    number = number//10;\n",
    "  return happy_num;\n",
    "lower = int(input(\"ENTER LOWEST VALUE : \"))\n",
    "upper = int(input(\"ENTER HIGHEST VALUE : \"))\n",
    "print(\"HAPPY NUMBERS WITHIN RANGE({},{}) ARE -\".format(lower,upper))\n",
    "for i in range(lower,upper+1):\n",
    "  happy_num = i\n",
    "  while(happy_num != 1 and happy_num != 4):\n",
    "    happy_num = check_happy(happy_num)\n",
    "  if(happy_num == 1):\n",
    "    print(i,end=\" \")"
   ]
  },
  {
   "cell_type": "code",
   "execution_count": null,
   "metadata": {},
   "outputs": [],
   "source": [
    "#Write a Python program to determine whether the given number is a Harshad Number?\n",
    "number = int(input('Enter number: '))\n",
    "\n",
    "\n",
    "copy = number\n",
    "\n",
    "digit_sum = 0\n",
    "\n",
    "while number:\n",
    "    digit_sum += number%10\n",
    "    number //= 10\n",
    "\n",
    "if copy%digit_sum == 0:\n",
    "    print('%d is Harshad Number' % (copy))\n",
    "else:\n",
    "    print('%d is Not Harshad Number' % (copy))\n",
    "    \n"
   ]
  },
  {
   "cell_type": "code",
   "execution_count": null,
   "metadata": {},
   "outputs": [],
   "source": [
    "#Write a Python program to print all pronic numbers between 1 and 100?\n",
    "import math\n",
    "print(\"Enter a range:\")\n",
    "range1=int(input())\n",
    "range2=int(input())\n",
    "print(\"Pronic numbers between \",range1,\" and \",range2,\" are: \")\n",
    "for i in range(range1,range2+1):\n",
    "    flag = 0\n",
    "    for j in range(0, i + 1):\n",
    "        if j * (j + 1) == i:\n",
    "            flag = 1\n",
    "            break\n",
    "    if flag == 1:\n",
    "        print(i,end=\" \")"
   ]
  },
  {
   "cell_type": "code",
   "execution_count": null,
   "metadata": {},
   "outputs": [],
   "source": []
  }
 ],
 "metadata": {
  "kernelspec": {
   "display_name": "Python 3",
   "language": "python",
   "name": "python3"
  },
  "language_info": {
   "codemirror_mode": {
    "name": "ipython",
    "version": 3
   },
   "file_extension": ".py",
   "mimetype": "text/x-python",
   "name": "python",
   "nbconvert_exporter": "python",
   "pygments_lexer": "ipython3",
   "version": "3.9.1"
  }
 },
 "nbformat": 4,
 "nbformat_minor": 4
}
