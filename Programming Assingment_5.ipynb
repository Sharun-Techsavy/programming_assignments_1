{
 "cells": [
  {
   "cell_type": "code",
   "execution_count": null,
   "metadata": {},
   "outputs": [],
   "source": [
    "#Write a Python Program to Find LCM?\n",
    "a=int(input(\"Enter the first number:\"))\n",
    "b=int(input(\"Enter the second number:\"))\n",
    "if(a>b):\n",
    "    min1=a\n",
    "else:\n",
    "    min1=b\n",
    "while(1):\n",
    "    if(min1%a==0 and min1%b==0):\n",
    "        print(\"LCM is:\",min1)\n",
    "        break\n",
    "    min1=min1+1"
   ]
  },
  {
   "cell_type": "code",
   "execution_count": null,
   "metadata": {},
   "outputs": [],
   "source": [
    "#Write a Python Program to Find HCF?\n",
    "def hcf(x, y):  \n",
    "    if x > y:  \n",
    "        smaller = y  \n",
    "    else:  \n",
    "        smaller = x  \n",
    "    for i in range(1,smaller + 1):  \n",
    "        if((x % i == 0) and (y % i == 0)):  \n",
    "            hcf = i  \n",
    "            return hcf  \n",
    "num1 = int(input(\"Enter first number: \"))  \n",
    "num2 = int(input(\"Enter second number: \"))  \n",
    "print(\"The H.C.F. of\", num1,\"and\", num2,\"is\", hcf(num1, num2))"
   ]
  },
  {
   "cell_type": "code",
   "execution_count": null,
   "metadata": {},
   "outputs": [],
   "source": [
    "#Write a Python Program to Convert Decimal to Binary, Octal and Hexadecimal?\n",
    "dec = int(input(\"Enter a decimal number: \"))  \n",
    "print(bin(dec),\"in binary.\")  \n",
    "print(oct(dec),\"in octal.\")  \n",
    "print(hex(dec),\"in hexadecimal.\")  "
   ]
  },
  {
   "cell_type": "code",
   "execution_count": null,
   "metadata": {},
   "outputs": [],
   "source": [
    "#Write a Python Program To Find ASCII value of a character?\n",
    "c = input(\"Enter a character: \")  \n",
    "print(\"The ASCII value of '\" + c + \"' is\",ord(c))"
   ]
  },
  {
   "cell_type": "code",
   "execution_count": null,
   "metadata": {},
   "outputs": [],
   "source": [
    "#Write a Python Program to Make a Simple Calculator with 4 basic mathematical operations?\n",
    "def calculate():\n",
    "    operation = input('''\n",
    "Please type in the math operation you would like to complete:\n",
    "+ for addition\n",
    "- for subtraction\n",
    "* for multiplication\n",
    "/ for division\n",
    "''')\n",
    "\n",
    "    number_1 = int(input('Please enter the first number: '))\n",
    "    number_2 = int(input('Please enter the second number: '))\n",
    "\n",
    "    if operation == '+':\n",
    "        print('{} + {} = '.format(number_1, number_2))\n",
    "        print(number_1 + number_2)\n",
    "\n",
    "    elif operation == '-':\n",
    "        print('{} - {} = '.format(number_1, number_2))\n",
    "        print(number_1 - number_2)\n",
    "\n",
    "    elif operation == '*':\n",
    "        print('{} * {} = '.format(number_1, number_2))\n",
    "        print(number_1 * number_2)\n",
    "\n",
    "    elif operation == '/':\n",
    "        print('{} / {} = '.format(number_1, number_2))\n",
    "        print(number_1 / number_2)\n",
    "\n",
    "    else:\n",
    "        print('You have not typed a valid operator, please run the program again.')\n",
    "\n",
    "    # Add again() function to calculate() function\n",
    "    again()\n",
    "\n",
    "def again():\n",
    "    calc_again = input('''\n",
    "Do you want to calculate again?\n",
    "Please type Y for YES or N for NO.\n",
    "''')\n",
    "\n",
    "    if calc_again.upper() == 'Y':\n",
    "        calculate()\n",
    "    elif calc_again.upper() == 'N':\n",
    "        print('See you later.')\n",
    "    else:\n",
    "        again()\n",
    "        \n",
    "def welcome():\n",
    "    print('''\n",
    "Welcome to Calculator\n",
    "''')\n",
    "welcome()\n",
    "calculate()"
   ]
  },
  {
   "cell_type": "code",
   "execution_count": null,
   "metadata": {},
   "outputs": [],
   "source": []
  }
 ],
 "metadata": {
  "kernelspec": {
   "display_name": "Python 3",
   "language": "python",
   "name": "python3"
  },
  "language_info": {
   "codemirror_mode": {
    "name": "ipython",
    "version": 3
   },
   "file_extension": ".py",
   "mimetype": "text/x-python",
   "name": "python",
   "nbconvert_exporter": "python",
   "pygments_lexer": "ipython3",
   "version": "3.9.1"
  }
 },
 "nbformat": 4,
 "nbformat_minor": 4
}
