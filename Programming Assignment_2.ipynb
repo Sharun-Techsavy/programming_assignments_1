{
 "cells": [
  {
   "cell_type": "code",
   "execution_count": null,
   "metadata": {},
   "outputs": [],
   "source": [
    "#Write a Python Program to Check if a Number is Positive, Negative or Zero?\n",
    "A. \n",
    "def checker(num):\n",
    "    if num > 0:\n",
    "        print(\"It is a positive number\")\n",
    "    elif num < 0:\n",
    "        print(\"It is a negative number\")\n",
    "    else:\n",
    "        print(\"The number is equal to Zero\")"
   ]
  },
  {
   "cell_type": "code",
   "execution_count": null,
   "metadata": {},
   "outputs": [],
   "source": [
    "#Write a Python Program to Check if a Number is Odd or Even?\n",
    "A.def checker(num):\n",
    "    if num%2 == 0:\n",
    "        print(\"The number is even\")\n",
    "    else:\n",
    "        print(\"The number is odd\")"
   ]
  },
  {
   "cell_type": "code",
   "execution_count": null,
   "metadata": {},
   "outputs": [],
   "source": [
    "#Write a Python Program to Check Leap Year?\n",
    "def check_leap(year):\n",
    "    if year%4 == 0:\n",
    "        print(\"Leap year\")\n",
    "    else:\n",
    "        print(\"Not a leap year\")"
   ]
  },
  {
   "cell_type": "code",
   "execution_count": null,
   "metadata": {},
   "outputs": [],
   "source": [
    "#Write a Python Program to Check Prime Number?\n",
    "\n",
    "num = int(input(\"Enter a number:\"))\n",
    "if num > 1:\n",
    "    for i in range(2, num):\n",
    "        if(num % i) == 0:\n",
    "            print(\"Not a prime number\")\n",
    "            break\n",
    "    else:\n",
    "        print(\"It is a prime number\")\n",
    "        \n",
    "else:\n",
    "    print(\"Not a prime number\")"
   ]
  },
  {
   "cell_type": "code",
   "execution_count": null,
   "metadata": {},
   "outputs": [],
   "source": [
    "#Write a Python Program to Print all Prime Numbers in an Interval of 1-10000?\n",
    "\n",
    "num = int(input(\"Enter a number:\"))\n",
    "\n",
    "for nums in range(2, num):  \n",
    "   if nums > 1:  \n",
    "       for i in range(2,nums):  \n",
    "           if (nums % i) == 0:  \n",
    "               break  \n",
    "       else:  \n",
    "           print(nums)"
   ]
  }
 ],
 "metadata": {
  "kernelspec": {
   "display_name": "Python 3",
   "language": "python",
   "name": "python3"
  },
  "language_info": {
   "codemirror_mode": {
    "name": "ipython",
    "version": 3
   },
   "file_extension": ".py",
   "mimetype": "text/x-python",
   "name": "python",
   "nbconvert_exporter": "python",
   "pygments_lexer": "ipython3",
   "version": "3.9.1"
  }
 },
 "nbformat": 4,
 "nbformat_minor": 4
}
