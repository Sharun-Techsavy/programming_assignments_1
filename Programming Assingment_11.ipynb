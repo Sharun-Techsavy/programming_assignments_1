{
 "cells": [
  {
   "cell_type": "code",
   "execution_count": null,
   "metadata": {},
   "outputs": [],
   "source": [
    "#Write a Python program to find words which are greater than given length k?\n",
    "\n",
    "myStr =  input('Enter the string : ')\n",
    "k = int(input('Enter k  (value for accepting string) : '))\n",
    "largerStrings = []\n",
    "\n",
    "\n",
    "words = myStr.split(\" \")\n",
    "for word in words:\n",
    "    if len(word) > k:\n",
    "        largerStrings.append(word)\n",
    "\n",
    "print(\"All words which are greater than given length \", k, \"are \", largerStrings)"
   ]
  },
  {
   "cell_type": "code",
   "execution_count": null,
   "metadata": {},
   "outputs": [],
   "source": [
    "#Write a Python program for removing i-th character from a string?\n",
    "test_str = \"iNeeuronai\"\n",
    "  \n",
    "\n",
    "print (\"The original string is : \" + test_str)\n",
    "\n",
    "new_str = ''.join([test_str[i] for i in range(len(test_str)) if i != 2])\n",
    "\n",
    "print (\"The string after removal of i'th character : \" + new_str)"
   ]
  },
  {
   "cell_type": "code",
   "execution_count": null,
   "metadata": {},
   "outputs": [],
   "source": [
    "#Write a Python program to split and join a string?\n",
    "\n",
    "def split_string(string):\n",
    "    list_string = string.split(' ') \n",
    "    return list_string\n",
    "  \n",
    "def join_string(list_string):\n",
    "    string = '-'.join(list_string)\n",
    "    return string\n",
    "  \n",
    "\n",
    "if __name__ == '__main__':\n",
    "    string = 'iNeuron ai'\n",
    "    \n",
    "    \n",
    "    list_string = split_string(string)\n",
    "    print(list_string)\n",
    "    new_string = join_string(list_string)\n",
    "    print(new_string)\n"
   ]
  },
  {
   "cell_type": "code",
   "execution_count": null,
   "metadata": {},
   "outputs": [],
   "source": [
    "#Write a Python to check if a given string is binary string or not?\n",
    "\n",
    "myStr =  input('Enter the binary string : ')\n",
    "\n",
    "flag = True\n",
    "for char in myStr :\n",
    "    if(char == '0' or char == '1'):\n",
    "       continue \n",
    "    else :\n",
    "        flag = False\n",
    "        print(\"The String is not a binary string\")\n",
    "        break\n",
    "    \n",
    "if(flag):\n",
    "    print(\"The String is binary string\")"
   ]
  },
  {
   "cell_type": "code",
   "execution_count": null,
   "metadata": {},
   "outputs": [],
   "source": [
    "#Write a Python program to find uncommon words from two Strings?\n",
    "\n",
    "str1 = input('Enter first string : ')\n",
    "str2 = input('Enter second string : ')\n",
    "\n",
    "\n",
    "count = {}\n",
    "for word in str1.split():\n",
    "    count[word] = count.get(word, 0) + 1\n",
    "for word in str2.split():\n",
    "    count[word] = count.get(word, 0) + 1\n",
    "  \n",
    "uncommonWords =  [word for word in count if count[word] == 1]\n",
    "\n",
    "\n",
    "print(\"All uncommon words from both the string are \", uncommonWords)"
   ]
  },
  {
   "cell_type": "code",
   "execution_count": null,
   "metadata": {},
   "outputs": [],
   "source": [
    "#Write a Python to find all duplicate characters in string?\n",
    "\n",
    "from collections import Counter\n",
    "\n",
    "def find_duplicates(s):\n",
    "    elements = Counter(s)\n",
    "    return [k for k,v in elements.items() if v>1]"
   ]
  },
  {
   "cell_type": "code",
   "execution_count": null,
   "metadata": {},
   "outputs": [],
   "source": [
    "#Write a Python Program to check if a string contains any special character?\n",
    "\n",
    "\n",
    " \n",
    "import re \n",
    " \n",
    "def check_splcharacter(test): \n",
    "    string_check= re.compile('[@_!#$%^&*()<>?/\\|}{~:]') \n",
    "    if(string_check.search(test) == None): \n",
    "        print(\"String does not contain Special Characters.\")   \n",
    "    else: \n",
    "        print(\"String contains Special Characters.\") \n",
    "      \n",
    "  \n",
    "# Driver Code \n",
    "if __name__ == '__main__' : \n",
    "      \n",
    "    test = \"Code%Speedy\"\n",
    "    check_splcharacter(test)"
   ]
  }
 ],
 "metadata": {
  "kernelspec": {
   "display_name": "Python 3",
   "language": "python",
   "name": "python3"
  },
  "language_info": {
   "codemirror_mode": {
    "name": "ipython",
    "version": 3
   },
   "file_extension": ".py",
   "mimetype": "text/x-python",
   "name": "python",
   "nbconvert_exporter": "python",
   "pygments_lexer": "ipython3",
   "version": "3.9.1"
  }
 },
 "nbformat": 4,
 "nbformat_minor": 4
}
