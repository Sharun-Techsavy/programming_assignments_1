{
 "cells": [
  {
   "cell_type": "code",
   "execution_count": null,
   "metadata": {},
   "outputs": [],
   "source": [
    "#Write a Python program to find sum of elements in list?\n",
    "def sum_list(items):\n",
    "    sum_numbers = 0\n",
    "    for x in items:\n",
    "        sum_numbers += x\n",
    "    return sum_numbers\n",
    "print(sum_list([1,2,-5, 10,12]))"
   ]
  },
  {
   "cell_type": "code",
   "execution_count": 5,
   "metadata": {},
   "outputs": [],
   "source": [
    "#Write a Python program to  Multiply all numbers in the list?\n",
    "def multiply_List(myList) : \n",
    "    result = 1\n",
    "    for x in myList:\n",
    "         result = result * x \n",
    "    return result"
   ]
  },
  {
   "cell_type": "code",
   "execution_count": null,
   "metadata": {},
   "outputs": [],
   "source": [
    "#Write a Python program to find smallest number in a list?\n",
    "\n",
    "list1 = []\n",
    " \n",
    "num = int(input(\"Enter number of elements in list: \"))\n",
    " \n",
    "for i in range(1, num + 1):\n",
    "    elem= int(input(\"Enter elements: \"))\n",
    "    list1.append(elem)\n",
    "     \n",
    "print(\"Smallest element is:\", min(list1))"
   ]
  },
  {
   "cell_type": "code",
   "execution_count": null,
   "metadata": {},
   "outputs": [],
   "source": [
    "#Write a Python program to find largest number in a list?\n",
    "list1 = []\n",
    " \n",
    "num = int(input(\"Enter number of elements in list: \"))\n",
    " \n",
    "for i in range(1, num + 1):\n",
    "    elem= int(input(\"Enter elements: \"))\n",
    "    list1.append(elem)\n",
    "     \n",
    "print(\"Smallest element is:\", max(list1))"
   ]
  },
  {
   "cell_type": "code",
   "execution_count": null,
   "metadata": {},
   "outputs": [],
   "source": [
    "#Write a Python program to find second largest number in a list?\n",
    "\n",
    "NumList = []\n",
    "Number = int(input(\"Please enter the Total Number of List Elements: \"))\n",
    "for i in range(1, Number + 1):\n",
    "    value = int(input(\"Please enter the Value of %d Element : \" %i))\n",
    "    NumList.append(value)\n",
    "\n",
    "NumList.sort()\n",
    "NumList.reverse()\n",
    "print(\"The Largest Element in this List is : \", NumList[1])"
   ]
  },
  {
   "cell_type": "code",
   "execution_count": null,
   "metadata": {},
   "outputs": [],
   "source": [
    "#Write a Python program to find N largest elements from a list?\n",
    "x = [1, 3, 7, 21, -90, 67, 42, 12]\n",
    "\n",
    "def max_finder(lst, N, result_lst = list()):\n",
    "    while N > 0:\n",
    "        max_value = max(lst)\n",
    "        result_lst.append(max_value)\n",
    "        lst.remove(max_value)\n",
    "        N-=1\n",
    "    return result_lst\n",
    "\n",
    "print(max_finder(x, 2))"
   ]
  },
  {
   "cell_type": "code",
   "execution_count": null,
   "metadata": {},
   "outputs": [],
   "source": [
    "#Write a Python program to print even numbers in a list?\n",
    "NumList = []\n",
    "\n",
    "Number = int(input(\"Please enter the Total Number of List Elements: \"))\n",
    "for i in range(1, Number + 1):\n",
    "    value = int(input(\"Please enter the Value of %d Element : \" %i))\n",
    "    NumList.append(value)\n",
    "\n",
    "print(\"\\nEven Numbers in this List are : \")\n",
    "for j in range(Number):\n",
    "    if(NumList[j] % 2 == 0):\n",
    "        print(NumList[j], end = '   ')"
   ]
  },
  {
   "cell_type": "code",
   "execution_count": null,
   "metadata": {},
   "outputs": [],
   "source": [
    "#Write a Python program to print odd numbers in a List?\n",
    "NumList = []\n",
    "\n",
    "Number = int(input(\"Please enter the Total Number of List Elements: \"))\n",
    "for i in range(1, Number + 1):\n",
    "    value = int(input(\"Please enter the Value of %d Element : \" %i))\n",
    "    NumList.append(value)\n",
    "\n",
    "print(\"\\nOdd Numbers in this List are : \")\n",
    "for j in range(Number):\n",
    "    if(NumList[j] % 2 != 0):\n",
    "        print(NumList[j], end = '   ')"
   ]
  },
  {
   "cell_type": "code",
   "execution_count": null,
   "metadata": {},
   "outputs": [],
   "source": [
    "#Write a Python program to Remove empty List from List?\n",
    "a_list = [\"a\", \"\", \"c\"]\n",
    "\n",
    "without_empty_strings = []\n",
    "for string in a_list:\n",
    "    if (string != \"\"):\n",
    "        without_empty_strings.append(string)\n",
    "\n",
    "print(without_empty_strings)"
   ]
  },
  {
   "cell_type": "code",
   "execution_count": null,
   "metadata": {},
   "outputs": [],
   "source": [
    "#Write a Python program to Cloning or Copying a list?\n",
    "old_list = [1, 2, 3]\n",
    "new_list = old_list\n",
    "\n",
    "old_list = [1, 2, 3]\n",
    "new_list = old_list\n",
    "\n",
    "new_list.append('a')\n",
    "\n",
    "print('New List:', new_list)\n",
    "print('Old List:', old_list)"
   ]
  },
  {
   "cell_type": "code",
   "execution_count": null,
   "metadata": {},
   "outputs": [],
   "source": [
    "#Write a Python program to Count occurrences of an element in a list?\n",
    "\n",
    "\n",
    "vowels = ['a', 'e', 'i', 'o', 'i', 'u']\n",
    "\n",
    "count = vowels.count('i')\n",
    "\n",
    "print('The count of i is:', count)\n",
    "\n",
    "count = vowels.count('p')\n",
    "\n",
    "print('The count of p is:', count)"
   ]
  },
  {
   "cell_type": "code",
   "execution_count": null,
   "metadata": {},
   "outputs": [],
   "source": []
  }
 ],
 "metadata": {
  "kernelspec": {
   "display_name": "Python 3",
   "language": "python",
   "name": "python3"
  },
  "language_info": {
   "codemirror_mode": {
    "name": "ipython",
    "version": 3
   },
   "file_extension": ".py",
   "mimetype": "text/x-python",
   "name": "python",
   "nbconvert_exporter": "python",
   "pygments_lexer": "ipython3",
   "version": "3.9.1"
  }
 },
 "nbformat": 4,
 "nbformat_minor": 4
}
